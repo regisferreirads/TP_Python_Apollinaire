{
 "cells": [
  {
   "cell_type": "code",
   "execution_count": 1,
   "metadata": {},
   "outputs": [
    {
     "data": {
      "text/plain": [
       "<Figure size 640x480 with 1 Axes>"
      ]
     },
     "metadata": {},
     "output_type": "display_data"
    },
    {
     "data": {
      "text/plain": [
       "<Figure size 640x480 with 3 Axes>"
      ]
     },
     "metadata": {},
     "output_type": "display_data"
    }
   ],
   "source": [
    "#!/usr/bin/env python3\n",
    "# -*- coding: utf-8 -*-\n",
    "\"\"\"\n",
    "Created on Wed May 13 12:41:57 2020\n",
    "\n",
    "@author: ferreira\n",
    "\n",
    "https://riptutorial.com/fr/matplotlib/example/23577/controles-interactifs-avec-matplotlib-widgets\n",
    "\n",
    "https://stackoverflow.com/questions/6697259/interactive-matplotlib-plot-with-two-sliders\n",
    "\"\"\"\n",
    "\n",
    "import numpy as np\n",
    "import matplotlib.pyplot as plt\n",
    "from matplotlib.widgets import Slider\n",
    "\n",
    "t_min=0\n",
    "t_max= 50\n",
    "y_min=0\n",
    "y_max=10\n",
    "\n",
    "fig = plt.plot()\n",
    "\n",
    "t = np.arange(0.0, t_max, 0.001)\n",
    "initial_a = 2 #valeur initiale coefficient directeur a\n",
    "T = initial_a*t #Tangente origine\n",
    "initial_asympt=2.5 #valeur asymptotique initiale\n",
    "\n",
    "#fonction expo\n",
    "def f(x):\n",
    "    return 5*(1-np.exp(-x/6))\n",
    "\n",
    "# asymptote\n",
    "asymptote=[]\n",
    "asymptote=[ initial_asympt for i in range (len(t))]\n",
    "\n",
    "plt.figure('Modelisation')\n",
    "plt.clf()\n",
    "plt.plot(t,f(t))\n",
    "g_asympt,=plt.plot(t,asymptote,lw=2,label='asymptote')\n",
    "g_tangente, = plt.plot(t, T, lw=2,label=\"tangente à l'origine\")\n",
    "plt.xlim(t_min,t_max)\n",
    "plt.ylim(y_min,y_max)\n",
    "plt.grid()\n",
    "\n",
    "#\n",
    "##axe contenant le curseur (abs.,ordo.)\n",
    "ax_T = plt.axes([0.25, .03, 0.5, 0.025])\n",
    "ax_asympt = plt.axes([0.25, .005, 0.5, 0.02])\n",
    "## Slider\n",
    "T_entree = Slider(ax_T, 'Coefficient directeur', y_min, y_max, valinit=initial_a)\n",
    "asympt_entree= Slider(ax_asympt, 'Valeur asymptotique', y_min, y_max, valinit=initial_asympt)\n",
    "#\n",
    "def update(val):\n",
    "    # amp is the current value of the slider\n",
    "    a = T_entree.val\n",
    "    asympt=asympt_entree.val\n",
    "    asymptote=[ asympt for i in range (len(t))]\n",
    "#    # update curve\n",
    "    g_tangente.set_ydata(a*t)\n",
    "    g_asympt.set_ydata(asymptote)\n",
    "#    # redraw canvas while idle\n",
    "    fig.canvas.draw_idle()\n",
    "#\n",
    "## call update function on slider value change\n",
    "T_entree.on_changed(update)\n",
    "asympt_entree.on_changed(update)\n",
    "\n",
    "plt.show()"
   ]
  }
 ],
 "metadata": {
  "kernelspec": {
   "display_name": "Python 3",
   "language": "python",
   "name": "python3"
  },
  "language_info": {
   "codemirror_mode": {
    "name": "ipython",
    "version": 3
   },
   "file_extension": ".py",
   "mimetype": "text/x-python",
   "name": "python",
   "nbconvert_exporter": "python",
   "pygments_lexer": "ipython3",
   "version": "3.7.3"
  }
 },
 "nbformat": 4,
 "nbformat_minor": 2
}
