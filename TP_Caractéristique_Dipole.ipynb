{
 "cells": [
  {
   "cell_type": "markdown",
   "metadata": {},
   "source": [
    "<font color='blue'> <h1> TP Caractéristique d'un dipôle </h1> </font>  "
   ]
  },
  {
   "cell_type": "markdown",
   "metadata": {},
   "source": [
    "<font color=\"purple\"> <h2>Première partie:  Valeurs expérimentales </h2> </font>"
   ]
  },
  {
   "cell_type": "markdown",
   "metadata": {},
   "source": [
    "<div style=\"background-color: ivory;color:black;padding:20px;\">\n",
    "<ul>\n",
    "    <li> Saisir vos valeurs dans les deux listes <b> tension et courant </b> du script python donné-ci-dessous puis <span style=\"color: red\"> cliquer sur le bouton Executer la cellule pour actualiser votre saisie</span>.</li>\n",
    "</ul>\n",
    "\n",
    "<b> Remarque: </b>\n",
    "    <ul>\n",
    "        <li> Les éléments d'une liste sont séparés par des virgules;</li>\n",
    "        <li> Le séparateur décimal est un point et non pas une virgule en python; </li>\n",
    "        <li> Les puissances de 10 s'écrivent avec la lettre e comme sur certaines calculatrices; </li>\n",
    "        <li> Les éléments de la liste U sont exprimés en <b> Volt </b>; </li>\n",
    "        <li> Les éléments de la liste ImA sont exprimés en <b> milli Ampère </b>; </li> \n",
    "        <li> Les deux listes U et I doivent avoir le même nombre d'éléments; </li>  \n",
    "    </ul>\n",
    "</div>"
   ]
  },
  {
   "cell_type": "code",
   "execution_count": 6,
   "metadata": {},
   "outputs": [
    {
     "ename": "SyntaxError",
     "evalue": "invalid syntax (<ipython-input-6-a9ed5351e25a>, line 3)",
     "output_type": "error",
     "traceback": [
      "\u001b[0;36m  File \u001b[0;32m\"<ipython-input-6-a9ed5351e25a>\"\u001b[0;36m, line \u001b[0;32m3\u001b[0m\n\u001b[0;31m    U = [Saisir vos mesures ici en tenant compte de la remarque donnée ci-dessus]\u001b[0m\n\u001b[0m                  ^\u001b[0m\n\u001b[0;31mSyntaxError\u001b[0m\u001b[0;31m:\u001b[0m invalid syntax\n"
     ]
    }
   ],
   "source": [
    "import pandas as pd\n",
    "\n",
    "U = [Saisir vos mesures ici en tenant compte de la remarque donnée ci-dessus]\n",
    "\n",
    "ImA = [Saisir vos mesures ici en tenant compte de la remarque donnée ci-dessus]\n",
    "\n",
    "I=[i/(1000) for i in ImA]\n",
    "\n",
    "Affichage_Tableau= pd.DataFrame({'U(V)':U,'I(A)':I})\n",
    "\n",
    "Affichage_Tableau"
   ]
  },
  {
   "cell_type": "markdown",
   "metadata": {},
   "source": [
    "<font color=\"purple\"> <h2>Deuxième partie:  Tracés de graphiques et modélisation</h2> </font>"
   ]
  },
  {
   "cell_type": "markdown",
   "metadata": {},
   "source": [
    "<font color=\"green\"> <h3>  I en fonction de U </h3> </font>"
   ]
  },
  {
   "cell_type": "markdown",
   "metadata": {},
   "source": [
    "<div style=\"background-color: ivory;color:black;padding:20px;\">\n",
    "<ul>\n",
    "    <li> Compléter le script python ci-dessous de façon à tracer le graphique représentant le courant électrique I (en <b> Ampère </b>) en fonction de la tension électrique U (en <b> Volt </b>):</li>\n",
    "       <ul>\n",
    "           <li> Légender les abscisses grâce à la ligne plt.xlabel(\"......\") </li>\n",
    "           <li> Légender les ordonnées grâce à la ligne plt.ylabel(\"......\") </li>\n",
    "           <li> Mettre un titre grâce à la ligne plt.title(\"......\") </li>\n",
    "           <li> Choisir les listes contenant les valeurs des abscisses et des ordonnées grâce à la ligne plt.plot(abscisses,ordonnees,'r+') </li>\n",
    "        </ul>   \n",
    "</ul>\n",
    "<br>\n",
    "<b> Remarque: </b>\n",
    "    <ul>\n",
    "        <li> 'r+' indique que chaque point est représenté par une croix rouge. On pourrait mettre à la place 'bo--' pour remplacer les croix par des ronds bleus reliés entre eux par des pointillés</li> \n",
    "    </ul>\n",
    "<span style=\"color:red\";> Cliquer ensuite sur le bouton Executer la cellule pour actualiser votre saisie</span>.\n",
    "</div>\n",
    "\n"
   ]
  },
  {
   "cell_type": "code",
   "execution_count": 3,
   "metadata": {},
   "outputs": [
    {
     "ename": "SyntaxError",
     "evalue": "invalid syntax (<ipython-input-3-741cef9410ca>, line 10)",
     "output_type": "error",
     "traceback": [
      "\u001b[0;36m  File \u001b[0;32m\"<ipython-input-3-741cef9410ca>\"\u001b[0;36m, line \u001b[0;32m10\u001b[0m\n\u001b[0;31m    plt.plot(Liste des abscisses,Liste des ordonnées,'r+')\u001b[0m\n\u001b[0m                     ^\u001b[0m\n\u001b[0;31mSyntaxError\u001b[0m\u001b[0;31m:\u001b[0m invalid syntax\n"
     ]
    }
   ],
   "source": [
    "import matplotlib.pyplot as plt # le module pyplot est renommé plt\n",
    "import numpy as np # le module numpy est renommé np\n",
    "\n",
    "#Trace graphique de la tension électrique en fonction du courant électrique\n",
    "plt.figure(\"Caractéristique dipole\") #titre du graphique\n",
    "plt.grid(which='both')\n",
    "plt.ylabel(\"Légender les ordonnées ici\")\n",
    "plt.xlabel(\"Légender les abscisses ici\")\n",
    "plt.ylim(0,1.1*max(I))\n",
    "plt.xlim(0,1.1*max(U))\n",
    "plt.title(f\"Mettre le titre du graphique ici\")\n",
    "plt.plot(Liste des abscisses,Liste des ordonnées,'r+')\n",
    "plt.legend()\n",
    "plt.show()"
   ]
  },
  {
   "cell_type": "markdown",
   "metadata": {},
   "source": [
    "<div style=\"background-color: ivory;color:black;padding:20px;\">\n",
    "<ul>\n",
    "    <li> Conclure sur la proprotionnalité entre la tension et le courant électrique pour ce dipôle. </li>\n",
    "    </ul>"
   ]
  },
  {
   "cell_type": "markdown",
   "metadata": {},
   "source": [
    "<font color=\"green\"> <h3>  Modélisation </h3> </font>"
   ]
  },
  {
   "cell_type": "markdown",
   "metadata": {},
   "source": [
    "<div style=\"background-color: ivory;color:black;padding:20px;\">\n",
    "<ul>\n",
    "    <li> Modifier le script Python suivant en affichant la courbe de modélisation U = f(I) .</li>"
   ]
  },
  {
   "cell_type": "code",
   "execution_count": 5,
   "metadata": {},
   "outputs": [
    {
     "ename": "SyntaxError",
     "evalue": "invalid syntax (<ipython-input-5-4f9f8ebb8960>, line 2)",
     "output_type": "error",
     "traceback": [
      "\u001b[0;36m  File \u001b[0;32m\"<ipython-input-5-4f9f8ebb8960>\"\u001b[0;36m, line \u001b[0;32m2\u001b[0m\n\u001b[0;31m    plt.plot(Liste des abscisses,Liste des ordonnées,'r+')#Courbe expérimentale\u001b[0m\n\u001b[0m                     ^\u001b[0m\n\u001b[0;31mSyntaxError\u001b[0m\u001b[0;31m:\u001b[0m invalid syntax\n"
     ]
    }
   ],
   "source": [
    "#Modélisation par une droite\n",
    "plt.plot(Liste des abscisses,Liste des ordonnées,'r+')#Courbe expérimentale\n",
    "coeff = np.polyfit (U, I, 1) # régression linéaire\n",
    "plt.plot ([0 , int(max(U))+1] , [ 0, (int(max(I))+1)* coeff[0] ],color='cyan') #courbe de modélisation\n",
    "plt.text(0.6*max(I),0.4*max(U),r\"Modélisation $U = $ \"+ str (np.round(coeff[0],3)) + \" x $ I $\",color='cyan')"
   ]
  },
  {
   "cell_type": "markdown",
   "metadata": {},
   "source": [
    "<div style=\"background-color: ivory;color:black;padding:20px;\">\n",
    "<ul>\n",
    "    <li> Conclure quand au coefficient de proportionnalité entre le courant électrique et le courant électrique pour ce dipôle.\n",
    "    </li>"
   ]
  }
 ],
 "metadata": {
  "kernelspec": {
   "display_name": "Python 3",
   "language": "python",
   "name": "python3"
  },
  "language_info": {
   "codemirror_mode": {
    "name": "ipython",
    "version": 3
   },
   "file_extension": ".py",
   "mimetype": "text/x-python",
   "name": "python",
   "nbconvert_exporter": "python",
   "pygments_lexer": "ipython3",
   "version": "3.7.4"
  }
 },
 "nbformat": 4,
 "nbformat_minor": 4
}
