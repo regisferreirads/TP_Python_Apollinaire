# Un peu de code python
import matplotlib.pyplot as plt
plt.plot([-2,-1,0,1,2],[4,1,0,1,4],"+")
plt.show()
